{
 "cells": [
  {
   "cell_type": "code",
   "execution_count": null,
   "metadata": {},
   "outputs": [],
   "source": [
    "\n",
    "def enlever_espace(phrase):\n",
    "    ch=''\n",
    "    for i in range(1,len(phrase)) :\n",
    "        if (phrase[i]==\" \" and phrase[i-1]==\" \" ) :\n",
    "               continue        \n",
    "        else :\n",
    "               ch= ch + phrase[i]\n",
    "    return ch\n",
    "\n",
    "# Demande à l'utilisateur de saisir une phrase\n",
    "phrase = input(\"Entrez une phrase : \")\n",
    "\n",
    "# Enlève les espaces inutiles de la phrase\n",
    "phras = enlever_espace(phrase)\n",
    "\n",
    "# Affiche la phrase sans espaces inutiles\n",
    "print('.'+phras)\n"
   ]
  },
  {
   "cell_type": "code",
   "execution_count": null,
   "metadata": {},
   "outputs": [],
   "source": []
  }
 ],
 "metadata": {
  "kernelspec": {
   "display_name": "Python 3",
   "language": "python",
   "name": "python3"
  },
  "language_info": {
   "codemirror_mode": {
    "name": "ipython",
    "version": 3
   },
   "file_extension": ".py",
   "mimetype": "text/x-python",
   "name": "python",
   "nbconvert_exporter": "python",
   "pygments_lexer": "ipython3",
   "version": "3.10.10"
  },
  "orig_nbformat": 4,
  "vscode": {
   "interpreter": {
    "hash": "486e0d5a79acdbfffd563ee7a67a93a5017bd2a4f66495483a69f0245c8a4a6c"
   }
  }
 },
 "nbformat": 4,
 "nbformat_minor": 2
}
