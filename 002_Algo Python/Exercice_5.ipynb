{
 "cells": [
  {
   "cell_type": "code",
   "execution_count": 12,
   "metadata": {},
   "outputs": [
    {
     "name": "stdout",
     "output_type": "stream",
     "text": [
      "o  \u001b[34mo\u001b[0m  \u001b[34mo\u001b[0m  \u001b[34mo\u001b[0m  \u001b[34mo\u001b[0m  \u001b[34mo\u001b[0m  \n",
      "\u001b[0;31mo\u001b[00m  o  \u001b[34mo\u001b[0m  \u001b[34mo\u001b[0m  \u001b[34mo\u001b[0m  \u001b[34mo\u001b[0m  \n",
      "\u001b[0;31mo\u001b[00m  \u001b[0;31mo\u001b[00m  o  \u001b[34mo\u001b[0m  \u001b[34mo\u001b[0m  \u001b[34mo\u001b[0m  \n",
      "\u001b[0;31mo\u001b[00m  \u001b[0;31mo\u001b[00m  \u001b[0;31mo\u001b[00m  o  \u001b[34mo\u001b[0m  \u001b[34mo\u001b[0m  \n",
      "\u001b[0;31mo\u001b[00m  \u001b[0;31mo\u001b[00m  \u001b[0;31mo\u001b[00m  \u001b[0;31mo\u001b[00m  o  \u001b[34mo\u001b[0m  \n",
      "\u001b[0;31mo\u001b[00m  \u001b[0;31mo\u001b[00m  \u001b[0;31mo\u001b[00m  \u001b[0;31mo\u001b[00m  \u001b[0;31mo\u001b[00m  o  \n"
     ]
    }
   ],
   "source": [
    "\n",
    "    # saisie de l'ordre de la matrice\n",
    "while True:\n",
    "        try:\n",
    "            order = int(input(\"Entrez l'ordre de la matrice : \"))\n",
    "            if order > 5:\n",
    "                break\n",
    "            else:\n",
    "                print(\"L'ordre de la matrice doit être supérieur à 5.\")\n",
    "        except ValueError:\n",
    "            print(\"L'ordre de la matrice doit être un nombre entier.\")\n",
    "\n",
    "    # saisie de la couleur\n",
    "while True:\n",
    "        couleur = input(\"Choisissez une couleur (Bleu ou Rouge) : \").lower()\n",
    "        if couleur in [\"bleu\", \"rouge\"]:\n",
    "            break\n",
    "        else :\n",
    "            print(\"Couleur non valide. Veuillez choisir entre Bleu et Rouge.\")\n",
    "\n",
    "    # saisie de la position de la couleur Bleu\n",
    "while True:\n",
    "        pos = input(\"Choisissez la position de la couleur Bleu (Haut ou Bas) : \").lower()\n",
    "        if pos in [\"haut\", \"bas\"]:\n",
    "            break\n",
    "        else :\n",
    "            print(\"Position non valide. Veuillez choisir entre Haut et Bas.\")\n",
    "\n",
    "\n",
    "matrice=[]\n",
    "tmp=''\n",
    "liste=[]\n",
    "for i in range (order):\n",
    "        for j in range (order):\n",
    "            if i==j:\n",
    "                tmp='o'\n",
    "            elif i>j:\n",
    "                if pos==\"haut\":\n",
    "                    tmp=\"\\033[0;31mo\\033[00m\"\n",
    "                if pos==\"bas\":\n",
    "                    tmp=\"\\033[34mo\\033[0m\"\n",
    "            else:\n",
    "                if pos==\"haut\":\n",
    "                    tmp=\"\\033[34mo\\033[0m\"\n",
    "                if pos==\"bas\":\n",
    "                    tmp=\"\\033[0;31mo\\033[00m\"\n",
    "            liste.append(tmp)\n",
    "        matrice.append(liste)\n",
    "        liste=[]\n",
    "for liste in matrice:\n",
    "        for valeur in liste:\n",
    "            print(valeur, end='  ')\n",
    "        print()\n",
    "\n",
    "\n",
    "            \n",
    "\n",
    "\n"
   ]
  }
 ],
 "metadata": {
  "kernelspec": {
   "display_name": "Python 3",
   "language": "python",
   "name": "python3"
  },
  "language_info": {
   "codemirror_mode": {
    "name": "ipython",
    "version": 3
   },
   "file_extension": ".py",
   "mimetype": "text/x-python",
   "name": "python",
   "nbconvert_exporter": "python",
   "pygments_lexer": "ipython3",
   "version": "3.10.10"
  },
  "orig_nbformat": 4,
  "vscode": {
   "interpreter": {
    "hash": "486e0d5a79acdbfffd563ee7a67a93a5017bd2a4f66495483a69f0245c8a4a6c"
   }
  }
 },
 "nbformat": 4,
 "nbformat_minor": 2
}
