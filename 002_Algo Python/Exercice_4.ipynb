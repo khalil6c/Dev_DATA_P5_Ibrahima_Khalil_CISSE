{
 "cells": [
  {
   "cell_type": "code",
   "execution_count": null,
   "metadata": {},
   "outputs": [],
   "source": [
    "operateurs=[\"77\",\"78\",\"76\",\"70\",\"75\"]\n",
    "\n",
    "def numero_valide(numero):\n",
    "    return numero[:2] in operateurs and len(numero)>=9\n",
    "\n",
    "def numero_orange(numero) :\n",
    "    return numero[:2]==\"77\" or numero[:2]==\"78\" and len(numero)>=9\n",
    "\n",
    "def numero_tigo(numero) :\n",
    "    return numero[:2]==\"76\" and len(numero)>=9   \n",
    "\n",
    "def numero_expresso(numero) :\n",
    "    return numero[:2]==\"70\" and len(numero)>=9 \n",
    "\n",
    "def numero_prom(numero) :\n",
    "    return numero[:2]==\"75\" and len(numero)>=9  \n",
    "\n",
    "def enlever_espace(numero):\n",
    "    ch=''\n",
    "    for i in range(len(numero)) :\n",
    "        if (numero[i]==\" \" and numero[i-1]==\" \" ) :\n",
    "               continue        \n",
    "        else :\n",
    "               ch= ch + numero[i]\n",
    "    return ch          \n",
    "\n",
    "\n",
    "n=int(input(\"Entrer le nombre de numero a saisir\"))\n",
    "\n",
    "num_valide=[]\n",
    "num_invalide=[]\n",
    "a=0\n",
    "b=0\n",
    "c=0\n",
    "d=0\n",
    "\n",
    "for i in range(n):\n",
    "    numero=str(input(\"Entrer le numero {}\".format(i+1)))\n",
    "    if numero_valide(numero):\n",
    "        num_valide.append(enlever_espace(numero))\n",
    "        if numero_orange(numero) :\n",
    "            a+=1\n",
    "            print(\"Le nombre de num orange valide est : \",a)\n",
    "        elif numero_tigo(numero) : \n",
    "            b+=1\n",
    "            print(\"Le nombre de num tigo valide est : \",b)  \n",
    "        elif numero_expresso(numero) : \n",
    "            c+=1\n",
    "            print(\"Le nombre de num expresso valide est : \",c)  \n",
    "        elif numero_prom(numero) : \n",
    "            d+=1\n",
    "            print(\"Le nombre de num promobile valide est : \",d) \n",
    "    else :\n",
    "        num_invalide.append(numero)  \n",
    "\n",
    "print(\"Les numeros valides\")        \n",
    "for list in num_valide :\n",
    "    print(list)\n",
    "\n",
    "print(\"\\nLes numeros invalides\")        \n",
    "for list in num_invalide :\n",
    "    print(list)    \n",
    "                       \n"
   ]
  }
 ],
 "metadata": {
  "kernelspec": {
   "display_name": "Python 3",
   "language": "python",
   "name": "python3"
  },
  "language_info": {
   "codemirror_mode": {
    "name": "ipython",
    "version": 3
   },
   "file_extension": ".py",
   "mimetype": "text/x-python",
   "name": "python",
   "nbconvert_exporter": "python",
   "pygments_lexer": "ipython3",
   "version": "3.10.10"
  },
  "orig_nbformat": 4,
  "vscode": {
   "interpreter": {
    "hash": "486e0d5a79acdbfffd563ee7a67a93a5017bd2a4f66495483a69f0245c8a4a6c"
   }
  }
 },
 "nbformat": 4,
 "nbformat_minor": 2
}
