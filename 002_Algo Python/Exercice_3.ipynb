{
 "cells": [
  {
   "cell_type": "code",
   "execution_count": null,
   "metadata": {},
   "outputs": [],
   "source": [
    "def enlever_espace(phrase):\n",
    "    ch=''\n",
    "    for i in range(len(phrase)) :\n",
    "        if (phrase[i]==\" \" and phrase[i-1]==\" \" ) :\n",
    "               continue        \n",
    "        else :\n",
    "               ch= ch + phrase[i]\n",
    "    return ch\n",
    "majus=['A','B','C','D','E' ,'F','G','H','I','J','K','L','M','N','O','P','Q','R','T','U','V','W','X','Y','Z' ]\n",
    "def phrase_valider (phrase) :\n",
    "    return phrase[0] in majus and phrase[-1] in \"?!.\" and len(phrase) >= 25\n",
    "            \n",
    "#Saisir de chaine de n phrases\n",
    "n=int(input(\"Veuillez saisir le nombre de phrases\"))\n",
    "phrases=[]\n",
    "for i in range(n) :\n",
    "    phrase=str(input (\"Entrer la phrase numero {}\".format(i+1)))\n",
    "    if phrase_valider (phrase):\n",
    "        phrase=enlever_espace(phrase)\n",
    "        phrases.append(phrase)\n",
    "       # print(\"Correction phrases\".phrases)\n",
    "    else :\n",
    "        print(\"La phrase numero {} n'est pas valide\".format(i+1))\n",
    "print(\"Correction phrase (s)\")\n",
    "\n",
    "for phrase in phrases:\n",
    "    print(phrase,end=\" \")\n",
    "\n",
    "\n",
    "      \n",
    "\n"
   ]
  }
 ],
 "metadata": {
  "kernelspec": {
   "display_name": "Python 3",
   "language": "python",
   "name": "python3"
  },
  "language_info": {
   "codemirror_mode": {
    "name": "ipython",
    "version": 3
   },
   "file_extension": ".py",
   "mimetype": "text/x-python",
   "name": "python",
   "nbconvert_exporter": "python",
   "pygments_lexer": "ipython3",
   "version": "3.10.10"
  },
  "orig_nbformat": 4,
  "vscode": {
   "interpreter": {
    "hash": "486e0d5a79acdbfffd563ee7a67a93a5017bd2a4f66495483a69f0245c8a4a6c"
   }
  }
 },
 "nbformat": 4,
 "nbformat_minor": 2
}
