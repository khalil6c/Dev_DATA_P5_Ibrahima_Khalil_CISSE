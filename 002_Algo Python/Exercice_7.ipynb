{
 "cells": [
  {
   "cell_type": "code",
   "execution_count": 1,
   "metadata": {},
   "outputs": [
    {
     "name": "stdout",
     "output_type": "stream",
     "text": [
      "j’ai 17,5 en algo.\n"
     ]
    }
   ],
   "source": [
    "def transform(l,n):\n",
    "\n",
    "    corresp_c_l=[['a','b','c'],['d','e','f'],['g','h','i'],['j','k','l'],['m','n','o'],['p','q','r','s'],['t','u','v'],['w','x','y','z']]\n",
    "\n",
    "    corresp_l_c=['a','b','c','d','e','f','g','h','i','j']\n",
    "\n",
    "    if(l>=\"2\" and l<=\"9\"):\n",
    "\n",
    "        return corresp_c_l[int(l)-2][n]\n",
    "\n",
    "    elif(l==\"0\"):\n",
    "\n",
    "        if(n==1):\n",
    "\n",
    "            return \" \"\n",
    "\n",
    "        else:\n",
    "\n",
    "            return \"\"\n",
    "\n",
    "    elif(l>=\"a\" and l<=\"j\"):\n",
    "\n",
    "        for i in range(len(corresp_l_c)):\n",
    "\n",
    "            if(corresp_l_c[i]==l):\n",
    "\n",
    "                return str(i)\n",
    "\n",
    "    else:\n",
    "\n",
    "        return l\n",
    "\n",
    "        \n",
    "\n",
    "def parcour_chaine(txt):\n",
    "\n",
    "    nb=0\n",
    "\n",
    "    p=\"\"\n",
    "\n",
    "    for i in range(len(txt)):\n",
    "\n",
    "        if((i+1<len(txt))):\n",
    "\n",
    "            if(nb<2 and txt[i]==txt[i+1] ):\n",
    "\n",
    "                nb+=1\n",
    "\n",
    "            else:\n",
    "\n",
    "                p+=transform(txt[i],nb)\n",
    "\n",
    "                nb=0\n",
    "\n",
    "        else:\n",
    "\n",
    "            p+=transform(txt[i],nb)\n",
    "\n",
    "    return p\n",
    "\n",
    "#Bonjour aly ⇔ \n",
    "\n",
    "txt = \"22666066566688777002555999.\"\n",
    "\n",
    "#- J’ai 17,5 en algo ⇔ \n",
    "\n",
    "txt =\"5’244400bh,f0033660025554666.\"\n",
    "\n",
    "p=parcour_chaine(txt)\n",
    "\n",
    "print(p)\n",
    "\n"
   ]
  }
 ],
 "metadata": {
  "kernelspec": {
   "display_name": "Python 3",
   "language": "python",
   "name": "python3"
  },
  "language_info": {
   "codemirror_mode": {
    "name": "ipython",
    "version": 3
   },
   "file_extension": ".py",
   "mimetype": "text/x-python",
   "name": "python",
   "nbconvert_exporter": "python",
   "pygments_lexer": "ipython3",
   "version": "3.10.10"
  },
  "orig_nbformat": 4,
  "vscode": {
   "interpreter": {
    "hash": "486e0d5a79acdbfffd563ee7a67a93a5017bd2a4f66495483a69f0245c8a4a6c"
   }
  }
 },
 "nbformat": 4,
 "nbformat_minor": 2
}
